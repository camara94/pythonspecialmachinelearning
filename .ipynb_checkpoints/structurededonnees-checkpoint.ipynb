{
 "cells": [
  {
   "cell_type": "code",
   "execution_count": 2,
   "metadata": {},
   "outputs": [],
   "source": [
    "# Les listes en Python\n",
    "liste_1 = [1, 2, 4, 6]\n",
    "villes = ['Djerba','Sfax', 'Medenine', 'Gabès', 'Sousse']\n",
    "liste_2 = [liste_1, villes]"
   ]
  },
  {
   "cell_type": "code",
   "execution_count": 3,
   "metadata": {},
   "outputs": [
    {
     "name": "stdout",
     "output_type": "stream",
     "text": [
      "[1, 2, 4, 6]\n"
     ]
    }
   ],
   "source": [
    "print(liste_1)"
   ]
  },
  {
   "cell_type": "code",
   "execution_count": 4,
   "metadata": {},
   "outputs": [
    {
     "name": "stdout",
     "output_type": "stream",
     "text": [
      "['Djerba', 'Sfax', 'Medenine', 'Gabès', 'Sousse']\n"
     ]
    }
   ],
   "source": [
    "print(villes)"
   ]
  },
  {
   "cell_type": "code",
   "execution_count": 5,
   "metadata": {},
   "outputs": [
    {
     "name": "stdout",
     "output_type": "stream",
     "text": [
      "[[1, 2, 4, 6], ['Djerba', 'Sfax', 'Medenine', 'Gabès', 'Sousse']]\n"
     ]
    }
   ],
   "source": [
    "print(liste_2)"
   ]
  },
  {
   "cell_type": "code",
   "execution_count": 6,
   "metadata": {},
   "outputs": [
    {
     "data": {
      "text/plain": [
       "4"
      ]
     },
     "execution_count": 6,
     "metadata": {},
     "output_type": "execute_result"
    }
   ],
   "source": [
    "len(liste_1)"
   ]
  },
  {
   "cell_type": "code",
   "execution_count": 7,
   "metadata": {},
   "outputs": [
    {
     "data": {
      "text/plain": [
       "5"
      ]
     },
     "execution_count": 7,
     "metadata": {},
     "output_type": "execute_result"
    }
   ],
   "source": [
    "len(villes)"
   ]
  },
  {
   "cell_type": "code",
   "execution_count": 8,
   "metadata": {},
   "outputs": [
    {
     "data": {
      "text/plain": [
       "2"
      ]
     },
     "execution_count": 8,
     "metadata": {},
     "output_type": "execute_result"
    }
   ],
   "source": [
    "len(liste_2)"
   ]
  },
  {
   "cell_type": "code",
   "execution_count": 20,
   "metadata": {},
   "outputs": [],
   "source": [
    "# Ajouter un élément à une liste\n",
    "villes.append(['Tunis','Radès'])"
   ]
  },
  {
   "cell_type": "code",
   "execution_count": 21,
   "metadata": {},
   "outputs": [
    {
     "data": {
      "text/plain": [
       "7"
      ]
     },
     "execution_count": 21,
     "metadata": {},
     "output_type": "execute_result"
    }
   ],
   "source": [
    "len(villes)"
   ]
  },
  {
   "cell_type": "code",
   "execution_count": 22,
   "metadata": {},
   "outputs": [
    {
     "data": {
      "text/plain": [
       "['Djerba', 'Sfax', 'Medenine', 'Gabès', 'Sousse', 'Tunis', ['Tunis', 'Radès']]"
      ]
     },
     "execution_count": 22,
     "metadata": {},
     "output_type": "execute_result"
    }
   ],
   "source": [
    "villes"
   ]
  },
  {
   "cell_type": "code",
   "execution_count": 23,
   "metadata": {},
   "outputs": [],
   "source": [
    "villes.extend(['Nebeul','Jarzis'])"
   ]
  },
  {
   "cell_type": "code",
   "execution_count": 24,
   "metadata": {},
   "outputs": [
    {
     "data": {
      "text/plain": [
       "['Djerba',\n",
       " 'Sfax',\n",
       " 'Medenine',\n",
       " 'Gabès',\n",
       " 'Sousse',\n",
       " 'Tunis',\n",
       " ['Tunis', 'Radès'],\n",
       " 'Nebeul',\n",
       " 'Jarzis']"
      ]
     },
     "execution_count": 24,
     "metadata": {},
     "output_type": "execute_result"
    }
   ],
   "source": [
    "villes"
   ]
  },
  {
   "cell_type": "code",
   "execution_count": 29,
   "metadata": {},
   "outputs": [],
   "source": [
    "# Tuple en Python\n",
    "nom = ('Camara','Sakouvogui','Touré','Keïta','Condé')\n",
    "# les Tuples à la difference des listes, ils sont en lecture seule donc on ne peut ni modifier, ni ajouter des éléments après\n",
    "# leur création en python"
   ]
  },
  {
   "cell_type": "code",
   "execution_count": 26,
   "metadata": {},
   "outputs": [
    {
     "data": {
      "text/plain": [
       "5"
      ]
     },
     "execution_count": 26,
     "metadata": {},
     "output_type": "execute_result"
    }
   ],
   "source": [
    "len(nom)"
   ]
  },
  {
   "cell_type": "code",
   "execution_count": 81,
   "metadata": {},
   "outputs": [
    {
     "data": {
      "text/plain": [
       "dict"
      ]
     },
     "execution_count": 81,
     "metadata": {},
     "output_type": "execute_result"
    }
   ],
   "source": [
    "# les dictionnaires en Python\n",
    "personne = {'nom':'Camara','prenom':'Laby Damaro','age':25,'fonction':'Etudiant'}\n",
    "enseignant = {\n",
    "    'nom':'Assas',\n",
    "    'prenom':'Anis',\n",
    "    'age':45,\n",
    "    'fonction':'Enseignant',\n",
    "    'salaire': 80000,\n",
    "    'cours':{\n",
    "     'nom':'Java',\n",
    "     'type':'Java SE',\n",
    "     'annee':'2019-2020'\n",
    "    }\n",
    "}\n",
    "type(enseignant)\n",
    "# dans un dictionnaire les éléments sont récupérer par leurs leurs clée dict[key]\n",
    "# dans un dictionnaire les clées sont uniques\n",
    "# dans un dictionnaire on peut avoir des sous dictionnaires"
   ]
  },
  {
   "cell_type": "code",
   "execution_count": 91,
   "metadata": {},
   "outputs": [
    {
     "ename": "SyntaxError",
     "evalue": "invalid syntax (<ipython-input-91-2311886d57aa>, line 2)",
     "output_type": "error",
     "traceback": [
      "\u001b[1;36m  File \u001b[1;32m\"<ipython-input-91-2311886d57aa>\"\u001b[1;36m, line \u001b[1;32m2\u001b[0m\n\u001b[1;33m    if value isinstanceof 'dict':\u001b[0m\n\u001b[1;37m                        ^\u001b[0m\n\u001b[1;31mSyntaxError\u001b[0m\u001b[1;31m:\u001b[0m invalid syntax\n"
     ]
    }
   ],
   "source": [
    "for key, value in enseignant.items():\n",
    "    if isinstance(value, dict):\n",
    "        for k, v in value.items():\n",
    "            print('{}:{}'.format(k, v)) \n",
    "        print(type(value))\n",
    "    else:\n",
    "        print('{}:{}'.format(key, value))\n",
    "        print(type(value))"
   ]
  },
  {
   "cell_type": "code",
   "execution_count": 46,
   "metadata": {},
   "outputs": [
    {
     "data": {
      "text/plain": [
       "80000"
      ]
     },
     "execution_count": 46,
     "metadata": {},
     "output_type": "execute_result"
    }
   ],
   "source": [
    "enseignat['salaire']"
   ]
  },
  {
   "cell_type": "code",
   "execution_count": 47,
   "metadata": {},
   "outputs": [],
   "source": [
    "# on peut aussi récuperer toutes les valeur dans un dictionnaire avec la methode values()\n",
    "valeurs = enseignant.values()"
   ]
  },
  {
   "cell_type": "code",
   "execution_count": 48,
   "metadata": {},
   "outputs": [
    {
     "data": {
      "text/plain": [
       "dict_values(['Assas', 'Anis', 45, 'Enseignant', 80000])"
      ]
     },
     "execution_count": 48,
     "metadata": {},
     "output_type": "execute_result"
    }
   ],
   "source": [
    "valeurs"
   ]
  },
  {
   "cell_type": "code",
   "execution_count": 49,
   "metadata": {},
   "outputs": [
    {
     "data": {
      "text/plain": [
       "dict_values"
      ]
     },
     "execution_count": 49,
     "metadata": {},
     "output_type": "execute_result"
    }
   ],
   "source": [
    "type(valeurs)"
   ]
  },
  {
   "cell_type": "code",
   "execution_count": 52,
   "metadata": {},
   "outputs": [],
   "source": [
    "# on peut également récuperer toutes les clées dans un dictionnaire avec la methode keys()\n",
    "clees = enseignant.keys()"
   ]
  },
  {
   "cell_type": "code",
   "execution_count": 57,
   "metadata": {},
   "outputs": [
    {
     "name": "stdout",
     "output_type": "stream",
     "text": [
      "pour la clée \"nom\" on a la valeur: \"Assas\"\n",
      "pour la clée \"prenom\" on a la valeur: \"Anis\"\n",
      "pour la clée \"age\" on a la valeur: \"45\"\n",
      "pour la clée \"fonction\" on a la valeur: \"Enseignant\"\n",
      "pour la clée \"salaire\" on a la valeur: \"80000\"\n"
     ]
    }
   ],
   "source": [
    "for key in clees:\n",
    "    print('pour la clée \"{}\" on a la valeur: \"{}\"'.format(key, enseignant[key]))"
   ]
  },
  {
   "cell_type": "code",
   "execution_count": 56,
   "metadata": {},
   "outputs": [
    {
     "name": "stdout",
     "output_type": "stream",
     "text": [
      "0 nom\n",
      "1 prenom\n",
      "2 age\n",
      "3 fonction\n",
      "4 salaire\n"
     ]
    }
   ],
   "source": [
    "for index, key in enumerate(enseignant):\n",
    "    print(index, key)"
   ]
  },
  {
   "cell_type": "code",
   "execution_count": 59,
   "metadata": {},
   "outputs": [
    {
     "data": {
      "text/plain": [
       "['Djerba',\n",
       " 'Sfax',\n",
       " 'Medenine',\n",
       " 'Gabès',\n",
       " 'Sousse',\n",
       " 'Tunis',\n",
       " ['Tunis', 'Radès'],\n",
       " 'Nebeul',\n",
       " 'Jarzis']"
      ]
     },
     "execution_count": 59,
     "metadata": {},
     "output_type": "execute_result"
    }
   ],
   "source": [
    "# on aussi faire le slicing en python avec les liste\n",
    "villes"
   ]
  },
  {
   "cell_type": "code",
   "execution_count": 61,
   "metadata": {},
   "outputs": [
    {
     "data": {
      "text/plain": [
       "['Sfax', 'Gabès']"
      ]
     },
     "execution_count": 61,
     "metadata": {},
     "output_type": "execute_result"
    }
   ],
   "source": [
    "# par exemples, pour récuperer les valeurs [debut:fin:pas]\n",
    "villes[1:4:2] # ici je veux récupérer du deuxième au quatrième éléments mais uniquement les éléments d'indice paire"
   ]
  },
  {
   "cell_type": "code",
   "execution_count": 66,
   "metadata": {
    "scrolled": true
   },
   "outputs": [
    {
     "data": {
      "text/plain": [
       "['Djerba',\n",
       " 'Sfax',\n",
       " 'Medenine',\n",
       " 'Gabès',\n",
       " 'Sousse',\n",
       " 'Tunis',\n",
       " ['Tunis', 'Radès'],\n",
       " 'Nebeul']"
      ]
     },
     "execution_count": 66,
     "metadata": {},
     "output_type": "execute_result"
    }
   ],
   "source": [
    "villes[:-1] # ici je veux tout sauf le dernier élément"
   ]
  },
  {
   "cell_type": "code",
   "execution_count": 68,
   "metadata": {},
   "outputs": [
    {
     "data": {
      "text/plain": [
       "[['Tunis', 'Radès']]"
      ]
     },
     "execution_count": 68,
     "metadata": {},
     "output_type": "execute_result"
    }
   ],
   "source": [
    "villes[6:-2] # ici je récupère le 6ème élément"
   ]
  },
  {
   "cell_type": "code",
   "execution_count": 71,
   "metadata": {},
   "outputs": [
    {
     "data": {
      "text/plain": [
       "['Djerba', 'Medenine', 'Sousse', ['Tunis', 'Radès'], 'Jarzis']"
      ]
     },
     "execution_count": 71,
     "metadata": {},
     "output_type": "execute_result"
    }
   ],
   "source": [
    "# tous les éléments pairs\n",
    "villes[::2]"
   ]
  },
  {
   "cell_type": "code",
   "execution_count": 72,
   "metadata": {},
   "outputs": [],
   "source": [
    "villes.insert?? #pour afficher le manuelle d'utilisation d'une methode"
   ]
  },
  {
   "cell_type": "code",
   "execution_count": 73,
   "metadata": {},
   "outputs": [
    {
     "data": {
      "text/plain": [
       "1"
      ]
     },
     "execution_count": 73,
     "metadata": {},
     "output_type": "execute_result"
    }
   ],
   "source": [
    "# Compter le nombre de fois qu'un élément apparaît dans une liste\n",
    "villes.count('Djerba')"
   ]
  },
  {
   "cell_type": "code",
   "execution_count": 74,
   "metadata": {},
   "outputs": [],
   "source": [
    "villes.append('Djerba')"
   ]
  },
  {
   "cell_type": "code",
   "execution_count": 75,
   "metadata": {},
   "outputs": [
    {
     "data": {
      "text/plain": [
       "2"
      ]
     },
     "execution_count": 75,
     "metadata": {},
     "output_type": "execute_result"
    }
   ],
   "source": [
    "villes.count('Djerba')"
   ]
  },
  {
   "cell_type": "code",
   "execution_count": 77,
   "metadata": {},
   "outputs": [
    {
     "name": "stdout",
     "output_type": "stream",
     "text": [
      "Sfax est dans la liste: ['Djerba', 'Sfax', 'Medenine', 'Gabès', 'Sousse', 'Tunis', ['Tunis', 'Radès'], 'Nebeul', 'Jarzis', 'Djerba']\n"
     ]
    }
   ],
   "source": [
    "# verifier qu'un est dans une liste en python\n",
    "chercher=\"Sfax\"\n",
    "if chercher in villes:\n",
    "    print('{} est dans la liste: {}'.format(chercher, villes))\n",
    "else:\n",
    "    print('{} n\\'est pas dans la liste: {}'.format(chercher, villes))"
   ]
  },
  {
   "cell_type": "code",
   "execution_count": null,
   "metadata": {},
   "outputs": [],
   "source": []
  }
 ],
 "metadata": {
  "kernelspec": {
   "display_name": "Python 3",
   "language": "python",
   "name": "python3"
  },
  "language_info": {
   "codemirror_mode": {
    "name": "ipython",
    "version": 3
   },
   "file_extension": ".py",
   "mimetype": "text/x-python",
   "name": "python",
   "nbconvert_exporter": "python",
   "pygments_lexer": "ipython3",
   "version": "3.7.4"
  }
 },
 "nbformat": 4,
 "nbformat_minor": 2
}
