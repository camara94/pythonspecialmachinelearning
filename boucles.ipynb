{
 "cells": [
  {
   "cell_type": "code",
   "execution_count": 3,
   "metadata": {},
   "outputs": [
    {
     "name": "stdout",
     "output_type": "stream",
     "text": [
      "Bonjour 1 fois\n",
      "Bonjour 3 fois\n",
      "Bonjour 5 fois\n",
      "Bonjour 7 fois\n",
      "Bonjour 9 fois\n"
     ]
    }
   ],
   "source": [
    "# boucle for\n",
    "for i in range(1, 10, 2):\n",
    "    print('Bonjour {} fois'.format(i))\n",
    "# la onction range prend trois arguments et deux est argument pardefaut\n",
    "# le premier indique où nous devons commencer, le seconde est le nombre de fois que la boucle doit iterer\n",
    "# le trois indique le pas"
   ]
  },
  {
   "cell_type": "code",
   "execution_count": 6,
   "metadata": {},
   "outputs": [
    {
     "name": "stdout",
     "output_type": "stream",
     "text": [
      "Bonjour 0 fois\n",
      "Bonjour 2 fois\n",
      "Bonjour 4 fois\n",
      "Bonjour 6 fois\n",
      "Bonjour 8 fois\n"
     ]
    }
   ],
   "source": [
    "# while\n",
    "i = 0\n",
    "while i<10:\n",
    "    print('Bonjour {} fois'.format(i))\n",
    "    i=i+2"
   ]
  },
  {
   "cell_type": "code",
   "execution_count": 14,
   "metadata": {},
   "outputs": [],
   "source": [
    "def fibonaci(n):\n",
    "    a,b,c = 0,0,0\n",
    "    if (n == 0) | (n == 1):\n",
    "        return 1\n",
    "    else:\n",
    "        a = 1\n",
    "        b = 1\n",
    "    for i in range(2, n+1):\n",
    "        c = a + b\n",
    "        a = b\n",
    "        b = c\n",
    "    return c"
   ]
  },
  {
   "cell_type": "code",
   "execution_count": 21,
   "metadata": {},
   "outputs": [
    {
     "data": {
      "text/plain": [
       "5"
      ]
     },
     "execution_count": 21,
     "metadata": {},
     "output_type": "execute_result"
    }
   ],
   "source": [
    "fibonaci(4)"
   ]
  },
  {
   "cell_type": "code",
   "execution_count": null,
   "metadata": {},
   "outputs": [],
   "source": []
  }
 ],
 "metadata": {
  "kernelspec": {
   "display_name": "Python 3",
   "language": "python",
   "name": "python3"
  },
  "language_info": {
   "codemirror_mode": {
    "name": "ipython",
    "version": 3
   },
   "file_extension": ".py",
   "mimetype": "text/x-python",
   "name": "python",
   "nbconvert_exporter": "python",
   "pygments_lexer": "ipython3",
   "version": "3.7.4"
  }
 },
 "nbformat": 4,
 "nbformat_minor": 2
}
