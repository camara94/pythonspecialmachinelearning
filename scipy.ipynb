{
 "cells": [
  {
   "cell_type": "markdown",
   "metadata": {},
   "source": [
    "# Calcules Scientifiques"
   ]
  },
  {
   "cell_type": "code",
   "execution_count": 8,
   "metadata": {},
   "outputs": [],
   "source": [
    "from scipy.interpolate import interp1d\n",
    "import numpy as np\n",
    "import matplotlib.pyplot as plt"
   ]
  },
  {
   "cell_type": "code",
   "execution_count": 16,
   "metadata": {},
   "outputs": [
    {
     "data": {
      "text/plain": [
       "[0.0,\n",
       " 0.11890606420927469,\n",
       " 0.47562425683709875,\n",
       " 1.0701545778834722,\n",
       " 1.902497027348395,\n",
       " 2.9726516052318672,\n",
       " 4.280618311533889,\n",
       " 5.826397146254458,\n",
       " 7.60998810939358,\n",
       " 9.631391200951251,\n",
       " 11.890606420927469,\n",
       " 14.387633769322235,\n",
       " 17.122473246135556,\n",
       " 20.095124851367423,\n",
       " 23.305588585017833,\n",
       " 26.7538644470868,\n",
       " 30.43995243757432,\n",
       " 34.36385255648039,\n",
       " 38.525564803805004,\n",
       " 42.92508917954816,\n",
       " 47.562425683709876,\n",
       " 52.43757431629014,\n",
       " 57.55053507728894,\n",
       " 62.901307966706305,\n",
       " 68.48989298454222,\n",
       " 74.31629013079669,\n",
       " 80.38049940546969,\n",
       " 86.68252080856126,\n",
       " 93.22235434007133,\n",
       " 100.0]"
      ]
     },
     "execution_count": 16,
     "metadata": {},
     "output_type": "execute_result"
    }
   ],
   "source": [
    "x = np.linspace(0, 10, 30)\n",
    "y = np.linspace(0, 10, 30)\n",
    "y = [ i**2 for i in y ]\n",
    "y"
   ]
  },
  {
   "cell_type": "code",
   "execution_count": 22,
   "metadata": {},
   "outputs": [],
   "source": [
    "f = interp1d(x, y, kind='cubic')"
   ]
  },
  {
   "cell_type": "code",
   "execution_count": 23,
   "metadata": {},
   "outputs": [
    {
     "data": {
      "text/plain": [
       "<matplotlib.collections.PathCollection at 0x201254e6708>"
      ]
     },
     "execution_count": 23,
     "metadata": {},
     "output_type": "execute_result"
    },
    {
     "data": {
      "image/png": "[encoded data removed]",
      "text/plain": [
       "<Figure size 432x288 with 1 Axes>"
      ]
     },
     "metadata": {
      "needs_background": "light"
     },
     "output_type": "display_data"
    }
   ],
   "source": [
    "new_x = np.linspace(0,10,30)\n",
    "result = f(new_x)\n",
    "plt.figure()\n",
    "plt.scatter(x,y)\n",
    "plt.scatter(new_x, result, c='red')"
   ]
  },
  {
   "cell_type": "code",
   "execution_count": null,
   "metadata": {},
   "outputs": [],
   "source": []
  },
  {
   "cell_type": "code",
   "execution_count": null,
   "metadata": {},
   "outputs": [],
   "source": []
  }
 ],
 "metadata": {
  "kernelspec": {
   "display_name": "Python 3",
   "language": "python",
   "name": "python3"
  },
  "language_info": {
   "codemirror_mode": {
    "name": "ipython",
    "version": 3
   },
   "file_extension": ".py",
   "mimetype": "text/x-python",
   "name": "python",
   "nbconvert_exporter": "python",
   "pygments_lexer": "ipython3",
   "version": "3.7.4"
  }
 },
 "nbformat": 4,
 "nbformat_minor": 2
}
