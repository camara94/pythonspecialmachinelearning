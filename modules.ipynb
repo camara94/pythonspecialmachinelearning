{
 "cells": [
  {
   "cell_type": "code",
   "execution_count": 1,
   "metadata": {},
   "outputs": [],
   "source": [
    "# import firstModule\n",
    "from firstModule import *"
   ]
  },
  {
   "cell_type": "code",
   "execution_count": 2,
   "metadata": {},
   "outputs": [],
   "source": [
    "# p = firstModule.direBonjour('Mawatta Camara')\n",
    "p = puissance(2, 3)"
   ]
  },
  {
   "cell_type": "code",
   "execution_count": 3,
   "metadata": {},
   "outputs": [
    {
     "data": {
      "text/plain": [
       "8"
      ]
     },
     "execution_count": 3,
     "metadata": {},
     "output_type": "execute_result"
    }
   ],
   "source": [
    "p"
   ]
  },
  {
   "cell_type": "code",
   "execution_count": 11,
   "metadata": {},
   "outputs": [
    {
     "name": "stdout",
     "output_type": "stream",
     "text": [
      "Bonjour M./Mme /Mlle Kalilou Camara\n"
     ]
    }
   ],
   "source": [
    "direBonjour('Kalilou Camara')"
   ]
  },
  {
   "cell_type": "code",
   "execution_count": 5,
   "metadata": {},
   "outputs": [
    {
     "data": {
      "text/plain": [
       "120"
      ]
     },
     "execution_count": 5,
     "metadata": {},
     "output_type": "execute_result"
    }
   ],
   "source": [
    "factorielle(5)"
   ]
  },
  {
   "cell_type": "code",
   "execution_count": 6,
   "metadata": {},
   "outputs": [
    {
     "data": {
      "text/plain": [
       "720"
      ]
     },
     "execution_count": 6,
     "metadata": {},
     "output_type": "execute_result"
    }
   ],
   "source": [
    "factorielle(6)"
   ]
  },
  {
   "cell_type": "code",
   "execution_count": 18,
   "metadata": {},
   "outputs": [],
   "source": [
    "import numpy as np\n",
    "import math\n",
    "import random\n",
    "import statistics as st\n",
    "import os "
   ]
  },
  {
   "cell_type": "code",
   "execution_count": 19,
   "metadata": {},
   "outputs": [
    {
     "name": "stdout",
     "output_type": "stream",
     "text": [
      "3.141592653589793\n"
     ]
    }
   ],
   "source": [
    "print(math.pi)"
   ]
  },
  {
   "cell_type": "code",
   "execution_count": 20,
   "metadata": {},
   "outputs": [
    {
     "name": "stdout",
     "output_type": "stream",
     "text": [
      "-1.0\n"
     ]
    }
   ],
   "source": [
    "print(math.cos(math.pi))"
   ]
  },
  {
   "cell_type": "code",
   "execution_count": 21,
   "metadata": {},
   "outputs": [],
   "source": [
    "list_1 = [45, -9, 3,8, 9,6]"
   ]
  },
  {
   "cell_type": "code",
   "execution_count": 22,
   "metadata": {},
   "outputs": [
    {
     "name": "stdout",
     "output_type": "stream",
     "text": [
      "10.333333333333334\n"
     ]
    }
   ],
   "source": [
    "print(st.mean(list_1))"
   ]
  },
  {
   "cell_type": "code",
   "execution_count": 23,
   "metadata": {},
   "outputs": [
    {
     "name": "stdout",
     "output_type": "stream",
     "text": [
      "331.06666666666666\n"
     ]
    }
   ],
   "source": [
    "print(st.variance(list_1))"
   ]
  },
  {
   "cell_type": "code",
   "execution_count": 26,
   "metadata": {},
   "outputs": [
    {
     "name": "stdout",
     "output_type": "stream",
     "text": [
      "9\n"
     ]
    }
   ],
   "source": [
    "print(random.choice(list_1))"
   ]
  },
  {
   "cell_type": "code",
   "execution_count": 29,
   "metadata": {},
   "outputs": [
    {
     "name": "stdout",
     "output_type": "stream",
     "text": [
      "Condé\n"
     ]
    }
   ],
   "source": [
    "print(random.choice(['Camara','Condé','Keita']))"
   ]
  },
  {
   "cell_type": "code",
   "execution_count": 32,
   "metadata": {},
   "outputs": [
    {
     "name": "stdout",
     "output_type": "stream",
     "text": [
      "12\n"
     ]
    }
   ],
   "source": [
    "print(random.randint(5, 12))"
   ]
  },
  {
   "cell_type": "code",
   "execution_count": 36,
   "metadata": {},
   "outputs": [
    {
     "name": "stdout",
     "output_type": "stream",
     "text": [
      "[94, 7, 47, 15, 63]\n"
     ]
    }
   ],
   "source": [
    "print(random.sample(range(100), 5))"
   ]
  },
  {
   "cell_type": "code",
   "execution_count": 39,
   "metadata": {},
   "outputs": [
    {
     "name": "stdout",
     "output_type": "stream",
     "text": [
      "None\n"
     ]
    }
   ],
   "source": [
    "print(random.seed(5))"
   ]
  },
  {
   "cell_type": "code",
   "execution_count": 40,
   "metadata": {},
   "outputs": [
    {
     "name": "stdout",
     "output_type": "stream",
     "text": [
      "C:\\Users\\damaro\\pythonspecialmachinelearning\n"
     ]
    }
   ],
   "source": [
    "print(os.getcwd())"
   ]
  },
  {
   "cell_type": "code",
   "execution_count": 41,
   "metadata": {},
   "outputs": [],
   "source": [
    "import glob"
   ]
  },
  {
   "cell_type": "code",
   "execution_count": 43,
   "metadata": {},
   "outputs": [
    {
     "name": "stdout",
     "output_type": "stream",
     "text": [
      "['fichier.txt']\n"
     ]
    }
   ],
   "source": [
    "print(glob.glob(\"*.txt\"))"
   ]
  },
  {
   "cell_type": "code",
   "execution_count": 46,
   "metadata": {},
   "outputs": [
    {
     "data": {
      "text/plain": [
       "[' 0^2 = 0\\n',\n",
       " ' 1^2 = 1\\n',\n",
       " ' 2^2 = 4\\n',\n",
       " ' 3^2 = 9\\n',\n",
       " ' 4^2 = 16\\n',\n",
       " ' 5^2 = 25\\n',\n",
       " ' 6^2 = 36\\n',\n",
       " ' 7^2 = 49\\n',\n",
       " ' 8^2 = 64\\n',\n",
       " ' 9^2 = 81\\n',\n",
       " ' 10^2 = 100\\n']"
      ]
     },
     "execution_count": 46,
     "metadata": {},
     "output_type": "execute_result"
    }
   ],
   "source": [
    "with open('fichier.txt','r') as f:\n",
    "    liste = f.readlines()\n",
    "liste"
   ]
  },
  {
   "cell_type": "code",
   "execution_count": 47,
   "metadata": {},
   "outputs": [
    {
     "data": {
      "text/plain": [
       "[' 0^2 = 0',\n",
       " ' 1^2 = 1',\n",
       " ' 2^2 = 4',\n",
       " ' 3^2 = 9',\n",
       " ' 4^2 = 16',\n",
       " ' 5^2 = 25',\n",
       " ' 6^2 = 36',\n",
       " ' 7^2 = 49',\n",
       " ' 8^2 = 64',\n",
       " ' 9^2 = 81',\n",
       " ' 10^2 = 100']"
      ]
     },
     "execution_count": 47,
     "metadata": {},
     "output_type": "execute_result"
    }
   ],
   "source": [
    "# pour supprimer les \\n\n",
    "with open('fichier.txt', 'r') as f:\n",
    "    liste = f.read().splitlines()\n",
    "liste"
   ]
  },
  {
   "cell_type": "code",
   "execution_count": 49,
   "metadata": {},
   "outputs": [
    {
     "data": {
      "text/plain": [
       "['0^2 = 0',\n",
       " '1^2 = 1',\n",
       " '2^2 = 4',\n",
       " '3^2 = 9',\n",
       " '4^2 = 16',\n",
       " '5^2 = 25',\n",
       " '6^2 = 36',\n",
       " '7^2 = 49',\n",
       " '8^2 = 64',\n",
       " '9^2 = 81',\n",
       " '10^2 = 100']"
      ]
     },
     "execution_count": 49,
     "metadata": {},
     "output_type": "execute_result"
    }
   ],
   "source": [
    "# list comprehension\n",
    "liste = []\n",
    "liste = [line.strip() for line in open('fichier.txt', 'r')]\n",
    "liste"
   ]
  },
  {
   "cell_type": "code",
   "execution_count": 58,
   "metadata": {},
   "outputs": [
    {
     "data": {
      "text/plain": [
       "{'doc\\\\specialite.txt': ['DSI', 'RSI', 'MDW', 'DSI', 'SEM'],\n",
       " 'doc\\\\student.txt': ['Laby Damara',\n",
       "  'Karamo',\n",
       "  'Christine Gnama',\n",
       "  'Aly Badara',\n",
       "  'Issa'],\n",
       " 'doc\\\\ville.txt': ['Djerba', 'Sfax', 'Djerba', 'Sfax', 'Tunis']}"
      ]
     },
     "execution_count": 58,
     "metadata": {},
     "output_type": "execute_result"
    }
   ],
   "source": [
    "# with open('doc/specialite.txt','w') as f:\n",
    "#     f.write(\"DSI\\nRSI\\nMDW\\nDSI\\nSEM\\n\")\n",
    "\n",
    "students = {}\n",
    "for key in glob.glob('doc/*.txt'):\n",
    "    students[key]=[line.strip() for line in open(key, 'r')]\n",
    "    \n",
    "students\n"
   ]
  },
  {
   "cell_type": "code",
   "execution_count": 59,
   "metadata": {},
   "outputs": [
    {
     "data": {
      "text/plain": [
       "dict_keys(['doc\\\\specialite.txt', 'doc\\\\student.txt', 'doc\\\\ville.txt'])"
      ]
     },
     "execution_count": 59,
     "metadata": {},
     "output_type": "execute_result"
    }
   ],
   "source": [
    "students.keys()"
   ]
  },
  {
   "cell_type": "code",
   "execution_count": 60,
   "metadata": {},
   "outputs": [],
   "source": [
    "student_specialite = { key:value for key, value in zip(students['doc\\\\student.txt'], students['doc\\\\specialite.txt']) }"
   ]
  },
  {
   "cell_type": "code",
   "execution_count": 61,
   "metadata": {},
   "outputs": [
    {
     "data": {
      "text/plain": [
       "{'Laby Damara': 'DSI',\n",
       " 'Karamo': 'RSI',\n",
       " 'Christine Gnama': 'MDW',\n",
       " 'Aly Badara': 'DSI',\n",
       " 'Issa': 'SEM'}"
      ]
     },
     "execution_count": 61,
     "metadata": {},
     "output_type": "execute_result"
    }
   ],
   "source": [
    "student_specialite"
   ]
  },
  {
   "cell_type": "code",
   "execution_count": 62,
   "metadata": {},
   "outputs": [],
   "source": [
    "student_ville = { student:ville for student, ville in zip(students['doc\\\\student.txt'], students['doc\\\\ville.txt']) }"
   ]
  },
  {
   "cell_type": "code",
   "execution_count": 63,
   "metadata": {},
   "outputs": [
    {
     "data": {
      "text/plain": [
       "{'Laby Damara': 'Djerba',\n",
       " 'Karamo': 'Sfax',\n",
       " 'Christine Gnama': 'Djerba',\n",
       " 'Aly Badara': 'Sfax',\n",
       " 'Issa': 'Tunis'}"
      ]
     },
     "execution_count": 63,
     "metadata": {},
     "output_type": "execute_result"
    }
   ],
   "source": [
    "student_ville"
   ]
  },
  {
   "cell_type": "code",
   "execution_count": 72,
   "metadata": {},
   "outputs": [
    {
     "data": {
      "text/plain": [
       "[('Laby Damara', 'Djerba'),\n",
       " ('Karamo', 'Sfax'),\n",
       " ('Christine Gnama', 'Djerba'),\n",
       " ('Aly Badara', 'Sfax'),\n",
       " ('Issa', 'Tunis')]"
      ]
     },
     "execution_count": 72,
     "metadata": {},
     "output_type": "execute_result"
    }
   ],
   "source": [
    "list(student_ville.items())"
   ]
  },
  {
   "cell_type": "code",
   "execution_count": null,
   "metadata": {},
   "outputs": [],
   "source": []
  }
 ],
 "metadata": {
  "kernelspec": {
   "display_name": "Python 3",
   "language": "python",
   "name": "python3"
  },
  "language_info": {
   "codemirror_mode": {
    "name": "ipython",
    "version": 3
   },
   "file_extension": ".py",
   "mimetype": "text/x-python",
   "name": "python",
   "nbconvert_exporter": "python",
   "pygments_lexer": "ipython3",
   "version": "3.7.4"
  }
 },
 "nbformat": 4,
 "nbformat_minor": 2
}
