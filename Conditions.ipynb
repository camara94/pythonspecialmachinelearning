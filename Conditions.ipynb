{
 "cells": [
  {
   "cell_type": "code",
   "execution_count": 1,
   "metadata": {},
   "outputs": [
    {
     "name": "stdout",
     "output_type": "stream",
     "text": [
      "1 est postif\n"
     ]
    }
   ],
   "source": [
    "# Les structures de contrôles en Python\n",
    "# if condition : faire quelque chose\n",
    "x = 1 \n",
    "\n",
    "if x > 0:\n",
    "    print('{} est postif'.format(x))"
   ]
  },
  {
   "cell_type": "code",
   "execution_count": 4,
   "metadata": {},
   "outputs": [
    {
     "name": "stdout",
     "output_type": "stream",
     "text": [
      "-9 est négatif\n"
     ]
    }
   ],
   "source": [
    "# if condition: faire ceci esle: faire cela\n",
    "x = -9\n",
    "if x > 0:\n",
    "    print('{} est positif'.format(x))\n",
    "else:\n",
    "    print('{} est négatif'.format(x))"
   ]
  },
  {
   "cell_type": "code",
   "execution_count": 11,
   "metadata": {},
   "outputs": [
    {
     "name": "stdout",
     "output_type": "stream",
     "text": [
      "Vous est majeur, car vous avez 18 ans\n"
     ]
    }
   ],
   "source": [
    "# if condition: faire ceci elif condition: faire cela else faire autre chose\n",
    "age = 18\n",
    "if age <= 15:\n",
    "    print('Vous est enfant, car vous avez {} ans'.format(age))\n",
    "elif age<=17:\n",
    "    print('Vous est adolescent, car vous avez {} ans'.format(age))\n",
    "else:\n",
    "    print('Vous est majeur, car vous avez {} ans'.format(age))"
   ]
  },
  {
   "cell_type": "code",
   "execution_count": 12,
   "metadata": {},
   "outputs": [
    {
     "name": "stdout",
     "output_type": "stream",
     "text": [
      "Vous est adolescent, car vous avez 17 ans\n"
     ]
    }
   ],
   "source": [
    "# Conditions multiple\n",
    "age = 17\n",
    "if age <= 15:\n",
    "    print('Vous est enfant, car vous avez {} ans'.format(age))\n",
    "elif (age>15) & (age <= 17):\n",
    "    print('Vous est adolescent, car vous avez {} ans'.format(age))\n",
    "else:\n",
    "    print('Vous est majeur, car vous avez {} ans'.format(age))"
   ]
  },
  {
   "cell_type": "code",
   "execution_count": null,
   "metadata": {},
   "outputs": [],
   "source": []
  }
 ],
 "metadata": {
  "kernelspec": {
   "display_name": "Python 3",
   "language": "python",
   "name": "python3"
  },
  "language_info": {
   "codemirror_mode": {
    "name": "ipython",
    "version": 3
   },
   "file_extension": ".py",
   "mimetype": "text/x-python",
   "name": "python",
   "nbconvert_exporter": "python",
   "pygments_lexer": "ipython3",
   "version": "3.7.4"
  }
 },
 "nbformat": 4,
 "nbformat_minor": 2
}
